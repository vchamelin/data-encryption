{
 "cells": [
  {
   "cell_type": "code",
   "execution_count": 21,
   "metadata": {},
   "outputs": [
    {
     "name": "stdout",
     "output_type": "stream",
     "text": [
      "Public key:  (7, 3233) \n",
      "Private key:  (1783, 3233)\n",
      "Encrypted message:  788269525491194167628311676181626953153326167691426951442204\n",
      "Decrypting message with public key: (7, 3233)\n",
      "Decrypting message:  Mom, I love you!\n"
     ]
    }
   ],
   "source": [
    "def gcd(a, b):\n",
    "  while b != 0:\n",
    "    a, b = b, a % b\n",
    "  return a\n",
    "\n",
    "def multiplicative_inverse(e, phi):\n",
    "  d = 0\n",
    "  x1 = 0\n",
    "  x2 = 1\n",
    "  y1 = 1\n",
    "  temp_phi = phi\n",
    "  \n",
    "  while e > 0:\n",
    "    temp1 = temp_phi // e\n",
    "    temp2 = temp_phi - temp1 * e\n",
    "    temp_phi = e\n",
    "    e = temp2\n",
    "\n",
    "    x = x2- temp1* x1\n",
    "    y = d - temp1 * y1\n",
    "    \n",
    "    x2 = x1\n",
    "    x1 = x\n",
    "    d = y1\n",
    "    y1 = y\n",
    "  \n",
    "  if temp_phi == 1:\n",
    "    return d % phi\n",
    "\n",
    "def generate_keypair(p, q):\n",
    "  n = p * q\n",
    "  phi = (p-1) * (q-1)\n",
    "\n",
    "  e = 3\n",
    "  g = gcd(e, phi)\n",
    "  while g != 1:\n",
    "      e += 2\n",
    "      g = gcd(e, phi)\n",
    "\n",
    "  d = multiplicative_inverse(e, phi)\n",
    "  \n",
    "  return ((e, n), (d, n))\n",
    "\n",
    "def encrypt(pk, plaintext):\n",
    "  key, n = pk\n",
    "  cipher = [(ord(char) ** key) % n for char in plaintext]\n",
    "  return cipher\n",
    "\n",
    "def decrypt(pk, ciphertext):\n",
    "  key, n = pk\n",
    "  plain = [chr((char ** key) % n) for char in ciphertext]\n",
    "  return ''.join(plain)\n",
    "\n",
    "if __name__ == '__main__':\n",
    "  p = 61\n",
    "  q = 53\n",
    "  message = \"Mom, I love you!\"\n",
    "  public, private = generate_keypair(p, q)\n",
    "  encrypted_msg = encrypt(private, message)\n",
    "  print(\"Public key: \", public ,\"\\nPrivate key: \", private)\n",
    "  print(\"Encrypted message: \", ''.join(map(lambda x: str(x), encrypted_msg)))\n",
    "  print(\"Decrypting message with public key:\", public)\n",
    "  print(\"Decrypting message: \", decrypt(public, encrypted_msg))\n"
   ]
  }
 ],
 "metadata": {
  "kernelspec": {
   "display_name": "Python 3",
   "language": "python",
   "name": "python3"
  },
  "language_info": {
   "codemirror_mode": {
    "name": "ipython",
    "version": 3
   },
   "file_extension": ".py",
   "mimetype": "text/x-python",
   "name": "python",
   "nbconvert_exporter": "python",
   "pygments_lexer": "ipython3",
   "version": "3.10.8"
  },
  "orig_nbformat": 4
 },
 "nbformat": 4,
 "nbformat_minor": 2
}
